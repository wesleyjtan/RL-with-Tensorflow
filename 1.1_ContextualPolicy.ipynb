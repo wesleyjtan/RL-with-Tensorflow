{
 "cells": [
  {
   "cell_type": "markdown",
   "metadata": {},
   "source": [
    "## The Contextual Bandits "
   ]
  },
  {
   "cell_type": "markdown",
   "metadata": {},
   "source": [
    "This tutorial contains a simple example of how to build a policy-gradient based agent that can solve the contextual bandit problem."
   ]
  },
  {
   "cell_type": "code",
   "execution_count": 1,
   "metadata": {},
   "outputs": [],
   "source": [
    "import tensorflow as tf\n",
    "import tensorflow.contrib.slim as slim\n",
    "import numpy as np"
   ]
  },
  {
   "cell_type": "markdown",
   "metadata": {},
   "source": [
    "### The Contextual Bandits"
   ]
  },
  {
   "cell_type": "markdown",
   "metadata": {},
   "source": [
    "Here we define our contextual bandits. In this example, we are using three four-armed bandit. What this means is that each bandit has four arms that can be pulled. Each bandit has different success probabilities for each arm, and as such requires different actions to obtain the best result. The pullBandit function generates a random number from a normal distribution with a mean of 0. The lower the bandit number, the more likely a positive reward will be returned. We want our agent to learn to always choose the bandit-arm that will most often give a positive reward, depending on the Bandit presented."
   ]
  },
  {
   "cell_type": "code",
   "execution_count": 2,
   "metadata": {},
   "outputs": [],
   "source": [
    "class contextual_bandit():\n",
    "    def __init__(self):\n",
    "        self.state = 0\n",
    "        #list out bandits. Currently arms 4, 2, and 1 (respectively) are the most optimal\n",
    "        self.bandits = np.array([[0.2,0,-0.0,-5], [0.1,-5,1,0.25],[-5,5,5,5]])\n",
    "        self.num_bandits = self.bandits.shape[0] #3\n",
    "        self.num_actions = self.bandits.shape[1] #4\n",
    "        \n",
    "    def getBandit(self):\n",
    "        self.state = np.random.randint(0, len(self.bandits)) # returns a random state for each episode\n",
    "        return self.state\n",
    "\n",
    "    def pullArm(self,action):\n",
    "        #get a random number\n",
    "        bandit = self.bandits[self.state, action]\n",
    "        result = np.random.randn(1)\n",
    "        if result > bandit:\n",
    "            #return a positive reward\n",
    "            return 1\n",
    "        else:\n",
    "            #return a negative reward\n",
    "            return -1"
   ]
  },
  {
   "cell_type": "markdown",
   "metadata": {},
   "source": [
    "### The Policy-Based Agent"
   ]
  },
  {
   "cell_type": "markdown",
   "metadata": {},
   "source": [
    "The code below established our simple neural agent. It takes as input the current state, and returns an action. This allows the agent to take actions which are conditioned on the state of the environment, a critical step toward being able to solve full RL problems. The agent uses a single set of weights, within which each value is an estimate of the value of the return from choosing a particular arm given a bandit. We use a policy gradient method to update the agent by moving the value for the selected action toward the received reward."
   ]
  },
  {
   "cell_type": "code",
   "execution_count": 3,
   "metadata": {},
   "outputs": [],
   "source": [
    "class agent():\n",
    "    def __init__(self, lr, s_size, a_size):\n",
    "        #these lines establish the feed-forward part of the network. The agent takes a state and produces an action\n",
    "        self.state_in = tf.placeholder(shape=[1], dtype=tf.int32)\n",
    "        state_in_OH = slim.one_hot_encoding(self.state_in, s_size) #shape=(1, s_size)\n",
    "        output = slim.fully_connected(state_in_OH, a_size, \\\n",
    "                                     biases_initializer=None, activation_fn=tf.nn.sigmoid, \\\n",
    "                                      weights_initializer=tf.ones_initializer()) #shape=(1, a_size)\n",
    "        self.output = tf.reshape(output, [-1]) #shape=(a_size,)\n",
    "        self.chosen_action = tf.argmax(self.output, 0) #shape=()\n",
    "        \n",
    "        #the next six lines establish the training procedure. We feed the reward and chosen action into network\n",
    "        #to compute the loss, and ust it to update the network\n",
    "        self.reward_holder = tf.placeholder(shape=[1], dtype=tf.float32)\n",
    "        self.action_holder = tf.placeholder(shape=[1], dtype=tf.int32)\n",
    "        self.responsible_weight = tf.slice(self.output, self.action_holder, [1])\n",
    "        self.loss = -(tf.log(self.responsible_weight)* self.reward_holder)\n",
    "        optimizer = tf.train.GradientDescentOptimizer(learning_rate = lr)\n",
    "        self.update = optimizer.minimize(self.loss)"
   ]
  },
  {
   "cell_type": "markdown",
   "metadata": {},
   "source": [
    "### Training the Agent"
   ]
  },
  {
   "cell_type": "markdown",
   "metadata": {},
   "source": [
    "We will train our agent by getting a state from the environment, take an action, and recieve a reward. Using these three things, we can know how to properly update our network in order to more often choose actions given states that will yield the highest rewards over time."
   ]
  },
  {
   "cell_type": "code",
   "execution_count": 4,
   "metadata": {},
   "outputs": [],
   "source": [
    "tf.reset_default_graph() #clear the tensorflow graph\n",
    "\n",
    "cBandit = contextual_bandit() #load the bandits\n",
    "myAgent = agent(lr=0.001, s_size=cBandit.num_bandits, a_size=cBandit.num_actions) #load agent\n",
    "weights = tf.trainable_variables()[0] #the weights to evaluate to look into the network\n",
    "\n",
    "total_episodes = 10000 #set total number of episodes to train agent\n",
    "total_reward = np.zeros([cBandit.num_bandits, cBandit.num_actions]) #set scoreboard for bandits to 0\n",
    "eps = 0.1 #the chance of taking a random action\n",
    "\n",
    "init = tf.global_variables_initializer()"
   ]
  },
  {
   "cell_type": "code",
   "execution_count": 5,
   "metadata": {},
   "outputs": [
    {
     "name": "stdout",
     "output_type": "stream",
     "text": [
      "Mean reward for each of the 3 bandits: [0.   0.   0.25]\n",
      "Mean reward for each of the 3 bandits: [ 7.75 39.   37.  ]\n",
      "Mean reward for each of the 3 bandits: [43.75 72.25 77.75]\n",
      "Mean reward for each of the 3 bandits: [ 80.   117.25 108.5 ]\n",
      "Mean reward for each of the 3 bandits: [115.5  152.   147.75]\n",
      "Mean reward for each of the 3 bandits: [153.75 191.   183.  ]\n",
      "Mean reward for each of the 3 bandits: [193.75 228.5  216.  ]\n",
      "Mean reward for each of the 3 bandits: [233.   267.25 250.5 ]\n",
      "Mean reward for each of the 3 bandits: [268.75 306.   287.5 ]\n",
      "Mean reward for each of the 3 bandits: [307.5  339.   327.25]\n",
      "Mean reward for each of the 3 bandits: [343.75 377.75 361.75]\n",
      "Mean reward for each of the 3 bandits: [379.   416.25 401.5 ]\n",
      "Mean reward for each of the 3 bandits: [414.5  454.   438.25]\n",
      "Mean reward for each of the 3 bandits: [453.5  490.25 475.5 ]\n",
      "Mean reward for each of the 3 bandits: [495.   530.   505.75]\n",
      "Mean reward for each of the 3 bandits: [535.5  566.75 542.  ]\n",
      "Mean reward for each of the 3 bandits: [571.   608.5  572.25]\n",
      "Mean reward for each of the 3 bandits: [608.   647.5  609.25]\n",
      "Mean reward for each of the 3 bandits: [643.75 687.25 645.25]\n",
      "Mean reward for each of the 3 bandits: [683.25 723.5  680.  ]\n"
     ]
    }
   ],
   "source": [
    "#launch the tensorflow graph\n",
    "with tf.Session() as sess:\n",
    "    sess.run(init)\n",
    "    i = 0\n",
    "    while i < total_episodes:\n",
    "        s = cBandit.getBandit() #get a state from the environment\n",
    "        \n",
    "        #choose either a random action or one from our network\n",
    "        if np.random.rand(1) < eps:\n",
    "            action = np.random.randint(cBandit.num_actions)\n",
    "        else:\n",
    "            action = sess.run(myAgent.chosen_action, feed_dict={myAgent.state_in: [s]})\n",
    "            \n",
    "        reward = cBandit.pullArm(action) #get our reward for taking an action given a bandit\n",
    "        \n",
    "        #update the network\n",
    "        feed_dict={myAgent.reward_holder: [reward], myAgent.action_holder: [action], myAgent.state_in: [s]}\n",
    "        _, ww = sess.run([myAgent.update, weights], feed_dict=feed_dict)\n",
    "        \n",
    "        #update the running tally of scores\n",
    "        total_reward[s, action] += reward\n",
    "        if i % 500 == 0:\n",
    "            print(\"Mean reward for each of the \" + str(cBandit.num_bandits) + \" bandits: \" + str(np.mean(total_reward,axis=1)))\n",
    "        i += 1\n",
    "        "
   ]
  },
  {
   "cell_type": "code",
   "execution_count": 6,
   "metadata": {},
   "outputs": [
    {
     "name": "stdout",
     "output_type": "stream",
     "text": [
      "The agent thinks action 4 for bandit 1 is the most promising....\n",
      "...and it was right!\n",
      "The agent thinks action 2 for bandit 2 is the most promising....\n",
      "...and it was right!\n",
      "The agent thinks action 1 for bandit 3 is the most promising....\n",
      "...and it was right!\n"
     ]
    }
   ],
   "source": [
    "for a in range(cBandit.num_bandits):\n",
    "    print(\"The agent thinks action \" + str(np.argmax(ww[a])+1) + \" for bandit \" + str(a+1) + \" is the most promising....\")\n",
    "    \n",
    "    if np.argmax(ww[a]) == np.argmin(cBandit.bandits[a]):\n",
    "        print(\"...and it was right!\")\n",
    "    else:\n",
    "        print(\"...and it was wrong!\")"
   ]
  },
  {
   "cell_type": "code",
   "execution_count": null,
   "metadata": {},
   "outputs": [],
   "source": []
  }
 ],
 "metadata": {
  "kernelspec": {
   "display_name": "env",
   "language": "python",
   "name": "env"
  },
  "language_info": {
   "codemirror_mode": {
    "name": "ipython",
    "version": 3
   },
   "file_extension": ".py",
   "mimetype": "text/x-python",
   "name": "python",
   "nbconvert_exporter": "python",
   "pygments_lexer": "ipython3",
   "version": "3.5.2"
  }
 },
 "nbformat": 4,
 "nbformat_minor": 2
}
